{
 "cells": [
  {
   "cell_type": "markdown",
   "metadata": {},
   "source": [
    "# Analisa Statistik - uji stasioneritas"
   ]
  },
  {
   "cell_type": "code",
   "execution_count": 1,
   "metadata": {},
   "outputs": [],
   "source": [
    "# pustaka untuk manipulasi data\n",
    "import pandas as pd\n",
    "from pandas import concat\n",
    "from pandas import DataFrame\n",
    "from pandas import read_csv\n",
    "from pandas import read_excel\n",
    "import numpy as np\n",
    "from numpy import concatenate\n",
    "\n",
    "# pustaka untuk waktu komputasi\n",
    "import time\n",
    "from datetime import datetime\n",
    "\n",
    "# Pustaka untuk visualisasi data\n",
    "import seaborn as sns\n",
    "from matplotlib import pyplot\n",
    "from matplotlib import pyplot as plt\n",
    "\n",
    "# Pustaka untuk visualisasi acf dan pacf\n",
    "import statsmodels.api as sm\n",
    "from statsmodels.graphics.tsaplots import plot_pacf\n",
    "from statsmodels.graphics.tsaplots import plot_acf\n",
    "\n",
    "# pustaka normalisasi data / membuat data latih dan data uji.\n",
    "from sklearn import preprocessing\n",
    "from sklearn.preprocessing import MinMaxScaler\n",
    "from sklearn.preprocessing import LabelEncoder\n",
    "from mlxtend.preprocessing import minmax_scaling\n",
    "\n",
    "# pustaka uji stasioneritas statsmodel\n",
    "import statsmodels.api as sm\n",
    "from statsmodels.tsa.stattools import adfuller\n",
    "\n",
    "# pustaka uji stasioneritas arch\n",
    "from arch.unitroot import *\n",
    "from arch.unitroot import ADF\n",
    "from arch.unitroot import PhillipsPerron\n",
    "from arch.unitroot import KPSS"
   ]
  },
  {
   "cell_type": "markdown",
   "metadata": {},
   "source": [
    "### 1. Akuisisi Data"
   ]
  },
  {
   "cell_type": "code",
   "execution_count": 2,
   "metadata": {},
   "outputs": [],
   "source": [
    "# Set waktu komputasi\n",
    "start = time.time()"
   ]
  },
  {
   "cell_type": "code",
   "execution_count": 3,
   "metadata": {},
   "outputs": [],
   "source": [
    "# fix random seed for reproducibility\n",
    "np.random.seed(1234)"
   ]
  },
  {
   "cell_type": "code",
   "execution_count": 4,
   "metadata": {},
   "outputs": [],
   "source": [
    "dataset = pd.read_csv(\"dataset/dataset_boptn.csv\", parse_dates=[\"acq_date\"])"
   ]
  },
  {
   "cell_type": "code",
   "execution_count": 5,
   "metadata": {},
   "outputs": [],
   "source": [
    "# # set index tanggal\n",
    "# dataset = dataset.set_index(\"tanggal\")"
   ]
  },
  {
   "cell_type": "code",
   "execution_count": 6,
   "metadata": {},
   "outputs": [
    {
     "name": "stdout",
     "output_type": "stream",
     "text": [
      "<class 'pandas.core.frame.DataFrame'>\n",
      "RangeIndex: 276 entries, 0 to 275\n",
      "Data columns (total 8 columns):\n",
      " #   Column    Non-Null Count  Dtype         \n",
      "---  ------    --------------  -----         \n",
      " 0   acq_date  276 non-null    datetime64[ns]\n",
      " 1   hotspot   276 non-null    int64         \n",
      " 2   soi_anom  276 non-null    float64       \n",
      " 3   soi_std   276 non-null    float64       \n",
      " 4   sst_anom  276 non-null    float64       \n",
      " 5   sst_std   276 non-null    float64       \n",
      " 6   oni_anom  276 non-null    float64       \n",
      " 7   oni_std   276 non-null    float64       \n",
      "dtypes: datetime64[ns](1), float64(6), int64(1)\n",
      "memory usage: 17.4 KB\n"
     ]
    }
   ],
   "source": [
    "dataset.info()"
   ]
  },
  {
   "cell_type": "code",
   "execution_count": 7,
   "metadata": {},
   "outputs": [
    {
     "data": {
      "text/html": [
       "<div>\n",
       "<style scoped>\n",
       "    .dataframe tbody tr th:only-of-type {\n",
       "        vertical-align: middle;\n",
       "    }\n",
       "\n",
       "    .dataframe tbody tr th {\n",
       "        vertical-align: top;\n",
       "    }\n",
       "\n",
       "    .dataframe thead th {\n",
       "        text-align: right;\n",
       "    }\n",
       "</style>\n",
       "<table border=\"1\" class=\"dataframe\">\n",
       "  <thead>\n",
       "    <tr style=\"text-align: right;\">\n",
       "      <th></th>\n",
       "      <th>acq_date</th>\n",
       "      <th>hotspot</th>\n",
       "      <th>soi_anom</th>\n",
       "      <th>soi_std</th>\n",
       "      <th>sst_anom</th>\n",
       "      <th>sst_std</th>\n",
       "      <th>oni_anom</th>\n",
       "      <th>oni_std</th>\n",
       "    </tr>\n",
       "  </thead>\n",
       "  <tbody>\n",
       "    <tr>\n",
       "      <th>0</th>\n",
       "      <td>2001-01-31</td>\n",
       "      <td>3</td>\n",
       "      <td>1.6</td>\n",
       "      <td>1.0</td>\n",
       "      <td>-0.76</td>\n",
       "      <td>25.81</td>\n",
       "      <td>-0.68</td>\n",
       "      <td>25.88</td>\n",
       "    </tr>\n",
       "    <tr>\n",
       "      <th>1</th>\n",
       "      <td>2001-02-28</td>\n",
       "      <td>5</td>\n",
       "      <td>2.8</td>\n",
       "      <td>1.7</td>\n",
       "      <td>-0.56</td>\n",
       "      <td>26.18</td>\n",
       "      <td>-0.52</td>\n",
       "      <td>26.26</td>\n",
       "    </tr>\n",
       "    <tr>\n",
       "      <th>2</th>\n",
       "      <td>2001-03-31</td>\n",
       "      <td>10</td>\n",
       "      <td>1.5</td>\n",
       "      <td>0.9</td>\n",
       "      <td>-0.37</td>\n",
       "      <td>26.86</td>\n",
       "      <td>-0.44</td>\n",
       "      <td>26.76</td>\n",
       "    </tr>\n",
       "    <tr>\n",
       "      <th>3</th>\n",
       "      <td>2001-04-30</td>\n",
       "      <td>20</td>\n",
       "      <td>0.3</td>\n",
       "      <td>0.2</td>\n",
       "      <td>-0.56</td>\n",
       "      <td>27.24</td>\n",
       "      <td>-0.34</td>\n",
       "      <td>27.25</td>\n",
       "    </tr>\n",
       "    <tr>\n",
       "      <th>4</th>\n",
       "      <td>2001-05-31</td>\n",
       "      <td>39</td>\n",
       "      <td>-0.8</td>\n",
       "      <td>-0.5</td>\n",
       "      <td>-0.46</td>\n",
       "      <td>27.42</td>\n",
       "      <td>-0.25</td>\n",
       "      <td>27.49</td>\n",
       "    </tr>\n",
       "    <tr>\n",
       "      <th>...</th>\n",
       "      <td>...</td>\n",
       "      <td>...</td>\n",
       "      <td>...</td>\n",
       "      <td>...</td>\n",
       "      <td>...</td>\n",
       "      <td>...</td>\n",
       "      <td>...</td>\n",
       "      <td>...</td>\n",
       "    </tr>\n",
       "    <tr>\n",
       "      <th>271</th>\n",
       "      <td>2023-08-31</td>\n",
       "      <td>186</td>\n",
       "      <td>-1.4</td>\n",
       "      <td>-0.8</td>\n",
       "      <td>1.30</td>\n",
       "      <td>28.20</td>\n",
       "      <td>1.32</td>\n",
       "      <td>28.28</td>\n",
       "    </tr>\n",
       "    <tr>\n",
       "      <th>272</th>\n",
       "      <td>2023-09-30</td>\n",
       "      <td>2247</td>\n",
       "      <td>-2.1</td>\n",
       "      <td>-1.3</td>\n",
       "      <td>1.53</td>\n",
       "      <td>28.29</td>\n",
       "      <td>1.56</td>\n",
       "      <td>28.32</td>\n",
       "    </tr>\n",
       "    <tr>\n",
       "      <th>273</th>\n",
       "      <td>2023-10-31</td>\n",
       "      <td>3200</td>\n",
       "      <td>-0.8</td>\n",
       "      <td>-0.5</td>\n",
       "      <td>1.59</td>\n",
       "      <td>28.36</td>\n",
       "      <td>1.78</td>\n",
       "      <td>28.49</td>\n",
       "    </tr>\n",
       "    <tr>\n",
       "      <th>274</th>\n",
       "      <td>2023-11-30</td>\n",
       "      <td>390</td>\n",
       "      <td>-1.3</td>\n",
       "      <td>-0.8</td>\n",
       "      <td>1.90</td>\n",
       "      <td>28.72</td>\n",
       "      <td>1.92</td>\n",
       "      <td>28.60</td>\n",
       "    </tr>\n",
       "    <tr>\n",
       "      <th>275</th>\n",
       "      <td>2023-12-31</td>\n",
       "      <td>42</td>\n",
       "      <td>-0.4</td>\n",
       "      <td>-0.2</td>\n",
       "      <td>1.99</td>\n",
       "      <td>28.64</td>\n",
       "      <td>1.97</td>\n",
       "      <td>28.59</td>\n",
       "    </tr>\n",
       "  </tbody>\n",
       "</table>\n",
       "<p>276 rows × 8 columns</p>\n",
       "</div>"
      ],
      "text/plain": [
       "      acq_date  hotspot  soi_anom  soi_std  sst_anom  sst_std  oni_anom  \\\n",
       "0   2001-01-31        3       1.6      1.0     -0.76    25.81     -0.68   \n",
       "1   2001-02-28        5       2.8      1.7     -0.56    26.18     -0.52   \n",
       "2   2001-03-31       10       1.5      0.9     -0.37    26.86     -0.44   \n",
       "3   2001-04-30       20       0.3      0.2     -0.56    27.24     -0.34   \n",
       "4   2001-05-31       39      -0.8     -0.5     -0.46    27.42     -0.25   \n",
       "..         ...      ...       ...      ...       ...      ...       ...   \n",
       "271 2023-08-31      186      -1.4     -0.8      1.30    28.20      1.32   \n",
       "272 2023-09-30     2247      -2.1     -1.3      1.53    28.29      1.56   \n",
       "273 2023-10-31     3200      -0.8     -0.5      1.59    28.36      1.78   \n",
       "274 2023-11-30      390      -1.3     -0.8      1.90    28.72      1.92   \n",
       "275 2023-12-31       42      -0.4     -0.2      1.99    28.64      1.97   \n",
       "\n",
       "     oni_std  \n",
       "0      25.88  \n",
       "1      26.26  \n",
       "2      26.76  \n",
       "3      27.25  \n",
       "4      27.49  \n",
       "..       ...  \n",
       "271    28.28  \n",
       "272    28.32  \n",
       "273    28.49  \n",
       "274    28.60  \n",
       "275    28.59  \n",
       "\n",
       "[276 rows x 8 columns]"
      ]
     },
     "execution_count": 7,
     "metadata": {},
     "output_type": "execute_result"
    }
   ],
   "source": [
    "dataset"
   ]
  },
  {
   "cell_type": "markdown",
   "metadata": {},
   "source": [
    "### 2. Normalisasi Data (Max-Min)"
   ]
  },
  {
   "cell_type": "code",
   "execution_count": 8,
   "metadata": {},
   "outputs": [],
   "source": [
    "# memanggil fungsi max min scaler\n",
    "scaler = preprocessing.MinMaxScaler(feature_range=(0, 1))"
   ]
  },
  {
   "cell_type": "code",
   "execution_count": 9,
   "metadata": {},
   "outputs": [],
   "source": [
    "# proses max min scaler\n",
    "scaled = scaler.fit_transform(dataset[[\"hotspot\", \"soi_anom\", \"soi_std\", \"sst_anom\", \"sst_std\", \"oni_anom\", \"oni_std\"]])"
   ]
  },
  {
   "cell_type": "code",
   "execution_count": 10,
   "metadata": {},
   "outputs": [],
   "source": [
    "scaled = pd.DataFrame(scaled)\n",
    "scaled.columns = [\"hotspot\", \"soi_anom\", \"soi_std\", \"sst_anom\", \"sst_std\", \"oni_anom\", \"oni_std\"]"
   ]
  },
  {
   "cell_type": "code",
   "execution_count": 11,
   "metadata": {},
   "outputs": [],
   "source": [
    "df_normalisasi = pd.concat([dataset[[\"acq_date\"]], scaled], axis=1)\n"
   ]
  },
  {
   "cell_type": "code",
   "execution_count": 12,
   "metadata": {},
   "outputs": [
    {
     "data": {
      "text/html": [
       "<div>\n",
       "<style scoped>\n",
       "    .dataframe tbody tr th:only-of-type {\n",
       "        vertical-align: middle;\n",
       "    }\n",
       "\n",
       "    .dataframe tbody tr th {\n",
       "        vertical-align: top;\n",
       "    }\n",
       "\n",
       "    .dataframe thead th {\n",
       "        text-align: right;\n",
       "    }\n",
       "</style>\n",
       "<table border=\"1\" class=\"dataframe\">\n",
       "  <thead>\n",
       "    <tr style=\"text-align: right;\">\n",
       "      <th></th>\n",
       "      <th>acq_date</th>\n",
       "      <th>hotspot</th>\n",
       "      <th>soi_anom</th>\n",
       "      <th>soi_std</th>\n",
       "      <th>sst_anom</th>\n",
       "      <th>sst_std</th>\n",
       "      <th>oni_anom</th>\n",
       "      <th>oni_std</th>\n",
       "    </tr>\n",
       "  </thead>\n",
       "  <tbody>\n",
       "    <tr>\n",
       "      <th>0</th>\n",
       "      <td>2001-01-31</td>\n",
       "      <td>0.000000</td>\n",
       "      <td>0.68</td>\n",
       "      <td>0.683333</td>\n",
       "      <td>0.192575</td>\n",
       "      <td>0.183807</td>\n",
       "      <td>0.224299</td>\n",
       "      <td>0.206573</td>\n",
       "    </tr>\n",
       "    <tr>\n",
       "      <th>1</th>\n",
       "      <td>2001-02-28</td>\n",
       "      <td>0.000139</td>\n",
       "      <td>0.80</td>\n",
       "      <td>0.800000</td>\n",
       "      <td>0.238979</td>\n",
       "      <td>0.264770</td>\n",
       "      <td>0.261682</td>\n",
       "      <td>0.295775</td>\n",
       "    </tr>\n",
       "    <tr>\n",
       "      <th>2</th>\n",
       "      <td>2001-03-31</td>\n",
       "      <td>0.000485</td>\n",
       "      <td>0.67</td>\n",
       "      <td>0.666667</td>\n",
       "      <td>0.283063</td>\n",
       "      <td>0.413567</td>\n",
       "      <td>0.280374</td>\n",
       "      <td>0.413146</td>\n",
       "    </tr>\n",
       "    <tr>\n",
       "      <th>3</th>\n",
       "      <td>2001-04-30</td>\n",
       "      <td>0.001178</td>\n",
       "      <td>0.55</td>\n",
       "      <td>0.550000</td>\n",
       "      <td>0.238979</td>\n",
       "      <td>0.496718</td>\n",
       "      <td>0.303738</td>\n",
       "      <td>0.528169</td>\n",
       "    </tr>\n",
       "    <tr>\n",
       "      <th>4</th>\n",
       "      <td>2001-05-31</td>\n",
       "      <td>0.002494</td>\n",
       "      <td>0.44</td>\n",
       "      <td>0.433333</td>\n",
       "      <td>0.262181</td>\n",
       "      <td>0.536105</td>\n",
       "      <td>0.324766</td>\n",
       "      <td>0.584507</td>\n",
       "    </tr>\n",
       "    <tr>\n",
       "      <th>...</th>\n",
       "      <td>...</td>\n",
       "      <td>...</td>\n",
       "      <td>...</td>\n",
       "      <td>...</td>\n",
       "      <td>...</td>\n",
       "      <td>...</td>\n",
       "      <td>...</td>\n",
       "      <td>...</td>\n",
       "    </tr>\n",
       "    <tr>\n",
       "      <th>271</th>\n",
       "      <td>2023-08-31</td>\n",
       "      <td>0.012678</td>\n",
       "      <td>0.38</td>\n",
       "      <td>0.383333</td>\n",
       "      <td>0.670534</td>\n",
       "      <td>0.706783</td>\n",
       "      <td>0.691589</td>\n",
       "      <td>0.769953</td>\n",
       "    </tr>\n",
       "    <tr>\n",
       "      <th>272</th>\n",
       "      <td>2023-09-30</td>\n",
       "      <td>0.155466</td>\n",
       "      <td>0.31</td>\n",
       "      <td>0.300000</td>\n",
       "      <td>0.723898</td>\n",
       "      <td>0.726477</td>\n",
       "      <td>0.747664</td>\n",
       "      <td>0.779343</td>\n",
       "    </tr>\n",
       "    <tr>\n",
       "      <th>273</th>\n",
       "      <td>2023-10-31</td>\n",
       "      <td>0.221491</td>\n",
       "      <td>0.44</td>\n",
       "      <td>0.433333</td>\n",
       "      <td>0.737819</td>\n",
       "      <td>0.741794</td>\n",
       "      <td>0.799065</td>\n",
       "      <td>0.819249</td>\n",
       "    </tr>\n",
       "    <tr>\n",
       "      <th>274</th>\n",
       "      <td>2023-11-30</td>\n",
       "      <td>0.026812</td>\n",
       "      <td>0.39</td>\n",
       "      <td>0.383333</td>\n",
       "      <td>0.809745</td>\n",
       "      <td>0.820569</td>\n",
       "      <td>0.831776</td>\n",
       "      <td>0.845070</td>\n",
       "    </tr>\n",
       "    <tr>\n",
       "      <th>275</th>\n",
       "      <td>2023-12-31</td>\n",
       "      <td>0.002702</td>\n",
       "      <td>0.48</td>\n",
       "      <td>0.483333</td>\n",
       "      <td>0.830626</td>\n",
       "      <td>0.803063</td>\n",
       "      <td>0.843458</td>\n",
       "      <td>0.842723</td>\n",
       "    </tr>\n",
       "  </tbody>\n",
       "</table>\n",
       "<p>276 rows × 8 columns</p>\n",
       "</div>"
      ],
      "text/plain": [
       "      acq_date   hotspot  soi_anom   soi_std  sst_anom   sst_std  oni_anom  \\\n",
       "0   2001-01-31  0.000000      0.68  0.683333  0.192575  0.183807  0.224299   \n",
       "1   2001-02-28  0.000139      0.80  0.800000  0.238979  0.264770  0.261682   \n",
       "2   2001-03-31  0.000485      0.67  0.666667  0.283063  0.413567  0.280374   \n",
       "3   2001-04-30  0.001178      0.55  0.550000  0.238979  0.496718  0.303738   \n",
       "4   2001-05-31  0.002494      0.44  0.433333  0.262181  0.536105  0.324766   \n",
       "..         ...       ...       ...       ...       ...       ...       ...   \n",
       "271 2023-08-31  0.012678      0.38  0.383333  0.670534  0.706783  0.691589   \n",
       "272 2023-09-30  0.155466      0.31  0.300000  0.723898  0.726477  0.747664   \n",
       "273 2023-10-31  0.221491      0.44  0.433333  0.737819  0.741794  0.799065   \n",
       "274 2023-11-30  0.026812      0.39  0.383333  0.809745  0.820569  0.831776   \n",
       "275 2023-12-31  0.002702      0.48  0.483333  0.830626  0.803063  0.843458   \n",
       "\n",
       "      oni_std  \n",
       "0    0.206573  \n",
       "1    0.295775  \n",
       "2    0.413146  \n",
       "3    0.528169  \n",
       "4    0.584507  \n",
       "..        ...  \n",
       "271  0.769953  \n",
       "272  0.779343  \n",
       "273  0.819249  \n",
       "274  0.845070  \n",
       "275  0.842723  \n",
       "\n",
       "[276 rows x 8 columns]"
      ]
     },
     "execution_count": 12,
     "metadata": {},
     "output_type": "execute_result"
    }
   ],
   "source": [
    "df_normalisasi"
   ]
  },
  {
   "cell_type": "code",
   "execution_count": 13,
   "metadata": {},
   "outputs": [
    {
     "data": {
      "image/png": "[encoded data removed]",
      "text/plain": [
       "<Figure size 1000x500 with 1 Axes>"
      ]
     },
     "metadata": {},
     "output_type": "display_data"
    }
   ],
   "source": [
    "# membuat frame\n",
    "fig, ax = plt.subplots(figsize = (10,5))\n",
    "\n",
    "# membuat time series plot\n",
    "ax.plot(df_normalisasi[\"acq_date\"], df_normalisasi[\"hotspot\"], color=\"tab:blue\", label=\"Data Hostpot 2001 - 2023\", linewidth=2.5)\n",
    "\n",
    "# membuat label-label\n",
    "ax.set_title(\"Hotspot Sumsel Sensor MODIS 2001-2023\", fontsize=14)\n",
    "ax.set_xlabel(\"\", fontsize=12)\n",
    "ax.set_ylabel(\"\", fontsize=12)\n",
    "ax.legend(loc='best')\n",
    "ax.grid(True)\n",
    "\n",
    "# menampilkan plot\n",
    "plt.show()"
   ]
  },
  {
   "cell_type": "code",
   "execution_count": 14,
   "metadata": {},
   "outputs": [],
   "source": [
    "#df_normalisasi.to_csv(\"dataset/dataset_boptn_norm.csv\", index=False)"
   ]
  },
  {
   "cell_type": "markdown",
   "metadata": {},
   "source": [
    "### 3. Plot ACF dan PACF"
   ]
  },
  {
   "cell_type": "code",
   "execution_count": 15,
   "metadata": {},
   "outputs": [
    {
     "data": {
      "image/png": "[encoded data removed]",
      "text/plain": [
       "<Figure size 1000x500 with 1 Axes>"
      ]
     },
     "metadata": {},
     "output_type": "display_data"
    }
   ],
   "source": [
    "# membuat frame\n",
    "fig, ax = plt.subplots(figsize = (10,5))\n",
    "\n",
    "# membuat time series plot\n",
    "plot_acf(df_normalisasi[\"hotspot\"], lags=24, ax=ax)\n",
    "\n",
    "# membuat label-label\n",
    "ax.set_title(\"Plot ACF Hotspot Sumsel\", fontsize=14)\n",
    "ax.set_xlabel(\"test\", fontsize=12)\n",
    "ax.set_ylabel(\"\", fontsize=12)\n",
    "ax.grid(True)\n",
    "\n",
    "# menampilkan plot\n",
    "plt.show()"
   ]
  },
  {
   "cell_type": "code",
   "execution_count": 16,
   "metadata": {},
   "outputs": [
    {
     "data": {
      "image/png": "[encoded data removed]",
      "text/plain": [
       "<Figure size 1000x500 with 1 Axes>"
      ]
     },
     "metadata": {},
     "output_type": "display_data"
    }
   ],
   "source": [
    "# membuat frame\n",
    "fig, ax = plt.subplots(figsize = (10,5))\n",
    "\n",
    "# membuat time series plot\n",
    "plot_pacf(df_normalisasi[\"hotspot\"], lags=24, ax=ax)\n",
    "\n",
    "# membuat label-label\n",
    "ax.set_title(\"Plot PACF Hotspot Sumsel\", fontsize=14)\n",
    "ax.set_xlabel(\"test\", fontsize=12)\n",
    "ax.set_ylabel(\"\", fontsize=12)\n",
    "ax.grid(True)\n",
    "\n",
    "# menampilkan plot\n",
    "plt.show()"
   ]
  },
  {
   "cell_type": "markdown",
   "metadata": {},
   "source": [
    "### Uji-Stasioneritas (Statsmodels)"
   ]
  },
  {
   "cell_type": "markdown",
   "metadata": {},
   "source": [
    "**ADF Test with statsmodel**\n",
    "- https://machinelearningmastery.com/time-series-data-stationary-python/\n",
    "- https://docs.w3cub.com/statsmodels/generated/statsmodels.tsa.stattools.adfuller\n",
    "- https://www.statsmodels.org/dev/generated/statsmodels.tsa.stattools.adfuller.html"
   ]
  },
  {
   "cell_type": "code",
   "execution_count": 17,
   "metadata": {},
   "outputs": [
    {
     "name": "stdout",
     "output_type": "stream",
     "text": [
      "----------------------------------\n",
      "ADF Statistic: -3.977814020079044\n",
      "p-value: 0.0015312444243415619\n",
      "n-lags: 16\n",
      "n-obs: 259\n",
      "----------------------------------\n",
      "Critial Values:\n",
      "   1%, -3.4558530692911504\n",
      "   5%, -2.872764881778665\n",
      "   10%, -2.572751643088207\n"
     ]
    }
   ],
   "source": [
    "# Formula ADF Test\n",
    "# result = adfuller(df_sumsel, maxlag=24, autolag='AIC')\n",
    "result = adfuller(df_normalisasi[\"hotspot\"], autolag=None)\n",
    "\n",
    "# print result ADF Tes \n",
    "print(\"----------------------------------\")\n",
    "print(f'ADF Statistic: {result[0]}')\n",
    "print(f'p-value: {result[1]}')\n",
    "print(f'n-lags: {result[2]}')\n",
    "print(f'n-obs: {result[3]}')\n",
    "\n",
    "print(\"----------------------------------\")\n",
    "print('Critial Values:')\n",
    "for key, value in result[4].items():\n",
    "    print(f'   {key}, {value}')"
   ]
  },
  {
   "cell_type": "code",
   "execution_count": 18,
   "metadata": {},
   "outputs": [
    {
     "name": "stdout",
     "output_type": "stream",
     "text": [
      "Strong evidence against the null hypothesis (Ho), Reject the null hypothesis, Data has no unit root and is stationary\n"
     ]
    }
   ],
   "source": [
    "if result[1] <= 0.05:\n",
    "    print('Strong evidence against the null hypothesis (Ho), Reject the null hypothesis, Data has no unit root and is stationary')\n",
    "else:\n",
    "    print('Weak evidence against the null hypothesis (Ho), time series has a unit root, indicating it is non stationary.')"
   ]
  },
  {
   "cell_type": "markdown",
   "metadata": {},
   "source": [
    "### Uji-Stasioneritas (ARCH toolbox)"
   ]
  },
  {
   "cell_type": "markdown",
   "metadata": {},
   "source": [
    "**ADF Test with ARCH toolbox**\n",
    "- https://arch.readthedocs.io/en/latest/unitroot/generated/arch.unitroot.ADF.html"
   ]
  },
  {
   "cell_type": "markdown",
   "metadata": {},
   "source": [
    "Hipotesis 0 (H0): data terdapat akar unit. Artinya data bersifat non-stasioner\\\n",
    "Hipotesis 1 (H1): data terdapat tidak akar unit. Artinya data bersifat stasioner"
   ]
  },
  {
   "cell_type": "markdown",
   "metadata": {},
   "source": [
    "Jika p-value > 0.05 => Terima H0\\\n",
    "Jika p-value <= 0.05 => Terima H1 "
   ]
  },
  {
   "cell_type": "code",
   "execution_count": 19,
   "metadata": {},
   "outputs": [
    {
     "name": "stdout",
     "output_type": "stream",
     "text": [
      "   Augmented Dickey-Fuller Results   \n",
      "=====================================\n",
      "Test Statistic                 -4.061\n",
      "P-value                         0.001\n",
      "Lags                               15\n",
      "-------------------------------------\n",
      "\n",
      "Trend: Constant\n",
      "Critical Values: -3.46 (1%), -2.87 (5%), -2.57 (10%)\n",
      "Null Hypothesis: The process contains a unit root.\n",
      "Alternative Hypothesis: The process is weakly stationary.\n"
     ]
    }
   ],
   "source": [
    "adf = ADF(df_normalisasi[\"hotspot\"], lags=15)\n",
    "print(adf.summary().as_text())"
   ]
  },
  {
   "cell_type": "code",
   "execution_count": 20,
   "metadata": {},
   "outputs": [
    {
     "name": "stdout",
     "output_type": "stream",
     "text": [
      "                            OLS Regression Results                            \n",
      "==============================================================================\n",
      "Dep. Variable:                      y   R-squared:                       0.368\n",
      "Model:                            OLS   Adj. R-squared:                  0.327\n",
      "Method:                 Least Squares   F-statistic:                     8.848\n",
      "Date:                Fri, 15 Mar 2024   Prob (F-statistic):           5.89e-17\n",
      "Time:                        03:24:08   Log-Likelihood:                 279.37\n",
      "No. Observations:                 260   AIC:                            -524.7\n",
      "Df Residuals:                     243   BIC:                            -464.2\n",
      "Df Model:                          16                                         \n",
      "Covariance Type:            nonrobust                                         \n",
      "==============================================================================\n",
      "                 coef    std err          t      P>|t|      [0.025      0.975]\n",
      "------------------------------------------------------------------------------\n",
      "Level.L1      -0.5437      0.134     -4.061      0.000      -0.807      -0.280\n",
      "Diff.L1        0.4171      0.134      3.123      0.002       0.154       0.680\n",
      "Diff.L2       -0.0735      0.132     -0.556      0.579      -0.334       0.187\n",
      "Diff.L3        0.1217      0.128      0.947      0.345      -0.131       0.375\n",
      "Diff.L4        0.0350      0.127      0.276      0.782      -0.214       0.284\n",
      "Diff.L5        0.0412      0.122      0.338      0.736      -0.199       0.281\n",
      "Diff.L6        0.0193      0.116      0.167      0.868      -0.209       0.247\n",
      "Diff.L7       -0.0046      0.110     -0.042      0.967      -0.221       0.211\n",
      "Diff.L8       -0.0162      0.104     -0.156      0.876      -0.221       0.188\n",
      "Diff.L9       -0.0436      0.098     -0.446      0.656      -0.236       0.149\n",
      "Diff.L10      -0.0623      0.092     -0.677      0.499      -0.243       0.119\n",
      "Diff.L11       0.0058      0.086      0.067      0.946      -0.164       0.176\n",
      "Diff.L12       0.1558      0.080      1.946      0.053      -0.002       0.313\n",
      "Diff.L13       0.0432      0.076      0.568      0.571      -0.107       0.193\n",
      "Diff.L14       0.0278      0.065      0.427      0.670      -0.100       0.156\n",
      "Diff.L15       0.0581      0.065      0.898      0.370      -0.069       0.185\n",
      "const          0.0235      0.008      3.042      0.003       0.008       0.039\n",
      "==============================================================================\n",
      "Omnibus:                      239.326   Durbin-Watson:                   2.001\n",
      "Prob(Omnibus):                  0.000   Jarque-Bera (JB):            10396.933\n",
      "Skew:                           3.375   Prob(JB):                         0.00\n",
      "Kurtosis:                      33.235   Cond. No.                         66.8\n",
      "==============================================================================\n",
      "\n",
      "Notes:\n",
      "[1] Standard Errors assume that the covariance matrix of the errors is correctly specified.\n"
     ]
    }
   ],
   "source": [
    "# check linier regression with OLS\n",
    "reg_res = adf.regression\n",
    "print(reg_res.summary().as_text())"
   ]
  },
  {
   "cell_type": "markdown",
   "metadata": {},
   "source": [
    "**PP Test with ARCH toolbook**\n",
    "- https://arch.readthedocs.io/en/latest/unitroot/generated/arch.unitroot.PhillipsPerron.html"
   ]
  },
  {
   "cell_type": "markdown",
   "metadata": {},
   "source": [
    "Hipotesis 0 (H0): data terdapat akar unit. Artinya data bersifat non-stasioner\\\n",
    "Hipotesis 1 (H1): data terdapat tidak akar unit. Artinya data bersifat stasioner"
   ]
  },
  {
   "cell_type": "markdown",
   "metadata": {},
   "source": [
    "Jika p-value > 0.05 => Terima H0\\\n",
    "Jika p-value <= 0.05 => Terima H1 "
   ]
  },
  {
   "cell_type": "code",
   "execution_count": 21,
   "metadata": {},
   "outputs": [
    {
     "name": "stdout",
     "output_type": "stream",
     "text": [
      "     Phillips-Perron Test (Z-tau)    \n",
      "=====================================\n",
      "Test Statistic                 -7.001\n",
      "P-value                         0.000\n",
      "Lags                               15\n",
      "-------------------------------------\n",
      "\n",
      "Trend: Constant\n",
      "Critical Values: -3.45 (1%), -2.87 (5%), -2.57 (10%)\n",
      "Null Hypothesis: The process contains a unit root.\n",
      "Alternative Hypothesis: The process is weakly stationary.\n"
     ]
    }
   ],
   "source": [
    "pp = PhillipsPerron(df_normalisasi[\"hotspot\"], lags=15)\n",
    "print(pp.summary().as_text())"
   ]
  },
  {
   "cell_type": "code",
   "execution_count": 22,
   "metadata": {},
   "outputs": [
    {
     "name": "stdout",
     "output_type": "stream",
     "text": [
      "                            OLS Regression Results                            \n",
      "==============================================================================\n",
      "Dep. Variable:                      y   R-squared:                       0.379\n",
      "Model:                            OLS   Adj. R-squared:                  0.377\n",
      "Method:                 Least Squares   F-statistic:                     116.2\n",
      "Date:                Fri, 15 Mar 2024   Prob (F-statistic):           8.36e-23\n",
      "Time:                        03:24:08   Log-Likelihood:                 269.41\n",
      "No. Observations:                 275   AIC:                            -534.8\n",
      "Df Residuals:                     273   BIC:                            -527.6\n",
      "Df Model:                           1                                         \n",
      "Covariance Type:                  HAC                                         \n",
      "==============================================================================\n",
      "                 coef    std err          z      P>|z|      [0.025      0.975]\n",
      "------------------------------------------------------------------------------\n",
      "Level.L1       0.6157      0.057     10.779      0.000       0.504       0.728\n",
      "const          0.0158      0.004      4.127      0.000       0.008       0.023\n",
      "==============================================================================\n",
      "Omnibus:                      245.926   Durbin-Watson:                   1.538\n",
      "Prob(Omnibus):                  0.000   Jarque-Bera (JB):            13754.133\n",
      "Skew:                           3.156   Prob(JB):                         0.00\n",
      "Kurtosis:                      37.066   Cond. No.                         8.69\n",
      "==============================================================================\n",
      "\n",
      "Notes:\n",
      "[1] Standard Errors are heteroscedasticity and autocorrelation robust (HAC) using 15 lags and without small sample correction\n"
     ]
    }
   ],
   "source": [
    "# check linier regression with OLS\n",
    "reg_res = pp.regression\n",
    "print(reg_res.summary().as_text())"
   ]
  },
  {
   "cell_type": "markdown",
   "metadata": {},
   "source": [
    "**KPSS Test with ARCH toolbook**\n",
    "- https://arch.readthedocs.io/en/latest/unitroot/generated/arch.unitroot.KPSS.html"
   ]
  },
  {
   "cell_type": "markdown",
   "metadata": {},
   "source": [
    "Hipotesis 0 (H0): data bersifat stasioner\\\n",
    "Hipotesis 1 (H1): data bersifat non-stasioner"
   ]
  },
  {
   "cell_type": "code",
   "execution_count": 23,
   "metadata": {},
   "outputs": [
    {
     "name": "stdout",
     "output_type": "stream",
     "text": [
      "    KPSS Stationarity Test Results   \n",
      "=====================================\n",
      "Test Statistic                  0.105\n",
      "P-value                         0.562\n",
      "Lags                               15\n",
      "-------------------------------------\n",
      "\n",
      "Trend: Constant\n",
      "Critical Values: 0.74 (1%), 0.46 (5%), 0.35 (10%)\n",
      "Null Hypothesis: The process is weakly stationary.\n",
      "Alternative Hypothesis: The process contains a unit root.\n"
     ]
    }
   ],
   "source": [
    "kpss = KPSS(df_normalisasi[\"hotspot\"], lags=15)\n",
    "print(kpss.summary().as_text())"
   ]
  },
  {
   "cell_type": "code",
   "execution_count": null,
   "metadata": {},
   "outputs": [],
   "source": []
  },
  {
   "cell_type": "code",
   "execution_count": null,
   "metadata": {},
   "outputs": [],
   "source": []
  }
 ],
 "metadata": {
  "kernelspec": {
   "display_name": "Python 3 (ipykernel)",
   "language": "python",
   "name": "python3"
  },
  "language_info": {
   "codemirror_mode": {
    "name": "ipython",
    "version": 3
   },
   "file_extension": ".py",
   "mimetype": "text/x-python",
   "name": "python",
   "nbconvert_exporter": "python",
   "pygments_lexer": "ipython3",
   "version": "3.11.5"
  },
  "vscode": {
   "interpreter": {
    "hash": "37197ad202cea1caf8a636a74cec7c83b945e4f29ac1505900600f740c02611d"
   }
  }
 },
 "nbformat": 4,
 "nbformat_minor": 4
}
