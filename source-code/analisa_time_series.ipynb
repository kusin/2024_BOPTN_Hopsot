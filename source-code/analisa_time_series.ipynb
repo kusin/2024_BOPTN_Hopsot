{
 "cells": [
  {
   "cell_type": "markdown",
   "metadata": {},
   "source": [
    "# Analisa Statistik - uji stasioneritas"
   ]
  },
  {
   "cell_type": "code",
   "execution_count": 2,
   "metadata": {},
   "outputs": [
    {
     "ename": "ModuleNotFoundError",
     "evalue": "No module named 'arch'",
     "output_type": "error",
     "traceback": [
      "\u001b[1;31m---------------------------------------------------------------------------\u001b[0m",
      "\u001b[1;31mModuleNotFoundError\u001b[0m                       Traceback (most recent call last)",
      "Cell \u001b[1;32mIn[2], line 35\u001b[0m\n\u001b[0;32m     32\u001b[0m \u001b[38;5;28;01mfrom\u001b[39;00m \u001b[38;5;21;01mstatsmodels\u001b[39;00m\u001b[38;5;21;01m.\u001b[39;00m\u001b[38;5;21;01mtsa\u001b[39;00m\u001b[38;5;21;01m.\u001b[39;00m\u001b[38;5;21;01mstattools\u001b[39;00m \u001b[38;5;28;01mimport\u001b[39;00m adfuller\n\u001b[0;32m     34\u001b[0m \u001b[38;5;66;03m# pustaka uji stasioneritas arch\u001b[39;00m\n\u001b[1;32m---> 35\u001b[0m \u001b[38;5;28;01mfrom\u001b[39;00m \u001b[38;5;21;01march\u001b[39;00m\u001b[38;5;21;01m.\u001b[39;00m\u001b[38;5;21;01munitroot\u001b[39;00m \u001b[38;5;28;01mimport\u001b[39;00m \u001b[38;5;241m*\u001b[39m\n\u001b[0;32m     36\u001b[0m \u001b[38;5;28;01mfrom\u001b[39;00m \u001b[38;5;21;01march\u001b[39;00m\u001b[38;5;21;01m.\u001b[39;00m\u001b[38;5;21;01munitroot\u001b[39;00m \u001b[38;5;28;01mimport\u001b[39;00m ADF\n\u001b[0;32m     37\u001b[0m \u001b[38;5;28;01mfrom\u001b[39;00m \u001b[38;5;21;01march\u001b[39;00m\u001b[38;5;21;01m.\u001b[39;00m\u001b[38;5;21;01munitroot\u001b[39;00m \u001b[38;5;28;01mimport\u001b[39;00m PhillipsPerron\n",
      "\u001b[1;31mModuleNotFoundError\u001b[0m: No module named 'arch'"
     ]
    }
   ],
   "source": [
    "# pustaka untuk manipulasi data\n",
    "import pandas as pd\n",
    "from pandas import concat\n",
    "from pandas import DataFrame\n",
    "from pandas import read_csv\n",
    "from pandas import read_excel\n",
    "import numpy as np\n",
    "from numpy import concatenate\n",
    "\n",
    "# pustaka untuk waktu komputasi\n",
    "import time\n",
    "from datetime import datetime\n",
    "\n",
    "# Pustaka untuk visualisasi data\n",
    "import seaborn as sns\n",
    "from matplotlib import pyplot\n",
    "from matplotlib import pyplot as plt\n",
    "\n",
    "# Pustaka untuk visualisasi acf dan pacf\n",
    "import statsmodels.api as sm\n",
    "from statsmodels.graphics.tsaplots import plot_pacf\n",
    "from statsmodels.graphics.tsaplots import plot_acf\n",
    "\n",
    "# pustaka normalisasi data / membuat data latih dan data uji.\n",
    "from sklearn import preprocessing\n",
    "from sklearn.preprocessing import MinMaxScaler\n",
    "from sklearn.preprocessing import LabelEncoder\n",
    "from mlxtend.preprocessing import minmax_scaling\n",
    "\n",
    "# pustaka uji stasioneritas statsmodel\n",
    "import statsmodels.api as sm\n",
    "from statsmodels.tsa.stattools import adfuller\n",
    "\n",
    "# pustaka uji stasioneritas arch\n",
    "from arch.unitroot import *\n",
    "from arch.unitroot import ADF\n",
    "from arch.unitroot import PhillipsPerron\n",
    "from arch.unitroot import KPSS"
   ]
  },
  {
   "cell_type": "markdown",
   "metadata": {},
   "source": [
    "### 1. Akuisisi Data"
   ]
  },
  {
   "cell_type": "code",
   "execution_count": null,
   "metadata": {},
   "outputs": [],
   "source": [
    "# Set waktu komputasi\n",
    "start = time.time()"
   ]
  },
  {
   "cell_type": "code",
   "execution_count": null,
   "metadata": {},
   "outputs": [],
   "source": [
    "# fix random seed for reproducibility\n",
    "np.random.seed(1234)"
   ]
  },
  {
   "cell_type": "code",
   "execution_count": null,
   "metadata": {},
   "outputs": [],
   "source": [
    "dataset = pd.read_csv(\"dataset/dataset_boptn.csv\", parse_dates=[\"acq_date\"])"
   ]
  },
  {
   "cell_type": "code",
   "execution_count": null,
   "metadata": {},
   "outputs": [],
   "source": [
    "# # set index tanggal\n",
    "# dataset = dataset.set_index(\"tanggal\")"
   ]
  },
  {
   "cell_type": "code",
   "execution_count": null,
   "metadata": {},
   "outputs": [],
   "source": [
    "dataset.info()"
   ]
  },
  {
   "cell_type": "code",
   "execution_count": null,
   "metadata": {},
   "outputs": [],
   "source": [
    "print(dataset)"
   ]
  },
  {
   "cell_type": "markdown",
   "metadata": {},
   "source": [
    "- Studi Kasus Sumatera Selatan"
   ]
  },
  {
   "cell_type": "code",
   "execution_count": null,
   "metadata": {},
   "outputs": [],
   "source": [
    "# memilih area studi\n",
    "df_sumsel = dataset[[\"hotspot_sumsel\"]].copy()\n",
    "df_sumsel.info()"
   ]
  },
  {
   "cell_type": "code",
   "execution_count": null,
   "metadata": {},
   "outputs": [],
   "source": [
    "print(df_sumsel)"
   ]
  },
  {
   "cell_type": "code",
   "execution_count": null,
   "metadata": {},
   "outputs": [],
   "source": [
    "# code autocorrelation\n",
    "# membuat frame\n",
    "fig, ax= plt.subplots(nrows=1, ncols=2, facecolor=\"#F0F0F0\", figsize = (15,4))\n",
    "plot_acf(df_sumsel, lags=36, ax=ax[0])\n",
    "plot_pacf(df_sumsel,lags=36, ax=ax[1])\n",
    "ax[0].grid(True)\n",
    "ax[1].grid(True)\n",
    "plt.show()"
   ]
  },
  {
   "cell_type": "markdown",
   "metadata": {},
   "source": [
    "### 2. Normalisasi Data (Max-Min)"
   ]
  },
  {
   "cell_type": "code",
   "execution_count": null,
   "metadata": {},
   "outputs": [],
   "source": [
    "# memanggil fungsi max min scaler\n",
    "scaler = preprocessing.MinMaxScaler(feature_range=(-1, 1))"
   ]
  },
  {
   "cell_type": "code",
   "execution_count": null,
   "metadata": {},
   "outputs": [],
   "source": [
    "# proses max min scaler\n",
    "df_norm = scaler.fit_transform(df_sumsel)"
   ]
  },
  {
   "cell_type": "code",
   "execution_count": null,
   "metadata": {},
   "outputs": [],
   "source": [
    "np.round(df_norm[:5],6)"
   ]
  },
  {
   "cell_type": "code",
   "execution_count": null,
   "metadata": {},
   "outputs": [],
   "source": [
    "# generate urutan data sesuai panjang datanya\n",
    "x = pd.date_range(start=\"2001-01-01\", periods=len(df_sumsel), freq='MS')\n",
    "\n",
    "# membuat frame\n",
    "fig, (ax1, ax2) = plt.subplots(nrows=1, ncols=2, figsize = (20,5))\n",
    "\n",
    "# Plot dataset non normalize min-max\n",
    "# -------------------------------------------------------------------------------\n",
    "# membuat time series plot\n",
    "ax1.plot(x, df_sumsel, color=\"tab:blue\", label=\"data orginal\", linewidth=2.5)\n",
    "\n",
    "# membuat label-label\n",
    "ax1.set_title(\"Hotspot Sumsel Sensor MODIS 2001-2020\", fontsize=14)\n",
    "ax1.set_xlabel(\"Tanggal\", fontsize=12)\n",
    "ax1.set_ylabel(\"Jumlah Hostpot\", fontsize=12)\n",
    "ax1.legend(loc='upper left')\n",
    "ax1.grid(True)\n",
    "\n",
    "\n",
    "# Plot dataset with normalize min-max\n",
    "# -------------------------------------------------------------------------------\n",
    "# membuat time series plot\n",
    "ax2.plot(x, df_norm, color=\"tab:blue\", label=\"dataset with Normalize Min-Max\", linewidth=2.5)\n",
    "\n",
    "# membuat label-label\n",
    "ax2.set_title(\"Hotspot Sumsel Sensor MODIS 2001-2020\", fontsize=14)\n",
    "ax2.set_xlabel(\"Tanggal\", fontsize=12)\n",
    "ax2.set_ylabel(\"Jumlah Hostpot\", fontsize=12)\n",
    "ax2.legend(loc='upper left')\n",
    "ax2.grid(True)\n",
    "\n",
    "# menampilkan plot\n",
    "plt.show()"
   ]
  },
  {
   "cell_type": "markdown",
   "metadata": {},
   "source": [
    "### Uji-Stasioneritas (Statsmodels)"
   ]
  },
  {
   "cell_type": "markdown",
   "metadata": {},
   "source": [
    "**ADF Test with statsmodel**\n",
    "- https://machinelearningmastery.com/time-series-data-stationary-python/\n",
    "- https://docs.w3cub.com/statsmodels/generated/statsmodels.tsa.stattools.adfuller\n",
    "- https://www.statsmodels.org/dev/generated/statsmodels.tsa.stattools.adfuller.html"
   ]
  },
  {
   "cell_type": "code",
   "execution_count": null,
   "metadata": {},
   "outputs": [],
   "source": [
    "# Formula ADF Test\n",
    "# result = adfuller(df_sumsel, maxlag=24, autolag='AIC')\n",
    "result = adfuller(df_sumsel, autolag=None)\n",
    "\n",
    "# print result ADF Tes \n",
    "print(\"----------------------------------\")\n",
    "print(f'ADF Statistic: {result[0]}')\n",
    "print(f'p-value: {result[1]}')\n",
    "print(f'n-lags: {result[2]}')\n",
    "print(f'n-obs: {result[3]}')\n",
    "\n",
    "print(\"----------------------------------\")\n",
    "print('Critial Values:')\n",
    "for key, value in result[4].items():\n",
    "    print(f'   {key}, {value}')"
   ]
  },
  {
   "cell_type": "code",
   "execution_count": null,
   "metadata": {},
   "outputs": [],
   "source": [
    "if result[1] <= 0.05:\n",
    "    print('Strong evidence against the null hypothesis (Ho), Reject the null hypothesis, Data has no unit root and is stationary')\n",
    "else:\n",
    "    print('Weak evidence against the null hypothesis (Ho), time series has a unit root, indicating it is non stationary.')"
   ]
  },
  {
   "cell_type": "markdown",
   "metadata": {},
   "source": [
    "### Uji-Stasioneritas (ARCH toolbox)"
   ]
  },
  {
   "cell_type": "markdown",
   "metadata": {},
   "source": [
    "**ADF Test with ARCH toolbox**\n",
    "- https://arch.readthedocs.io/en/latest/unitroot/generated/arch.unitroot.ADF.html"
   ]
  },
  {
   "cell_type": "markdown",
   "metadata": {},
   "source": [
    "Hipotesis 0 (H0): data terdapat akar unit. Artinya data bersifat non-stasioner\\\n",
    "Hipotesis 1 (H1): data terdapat tidak akar unit. Artinya data bersifat stasioner"
   ]
  },
  {
   "cell_type": "markdown",
   "metadata": {},
   "source": [
    "Jika p-value > 0.05 => Terima H0\\\n",
    "Jika p-value <= 0.05 => Terima H1 "
   ]
  },
  {
   "cell_type": "code",
   "execution_count": null,
   "metadata": {},
   "outputs": [],
   "source": [
    "adf = ADF(df_sumsel, lags=15)\n",
    "print(adf.summary().as_text())"
   ]
  },
  {
   "cell_type": "code",
   "execution_count": null,
   "metadata": {},
   "outputs": [],
   "source": [
    "# check linier regression with OLS\n",
    "reg_res = adf.regression\n",
    "print(reg_res.summary().as_text())"
   ]
  },
  {
   "cell_type": "markdown",
   "metadata": {},
   "source": [
    "**PP Test with ARCH toolbook**\n",
    "- https://arch.readthedocs.io/en/latest/unitroot/generated/arch.unitroot.PhillipsPerron.html"
   ]
  },
  {
   "cell_type": "markdown",
   "metadata": {},
   "source": [
    "Hipotesis 0 (H0): data terdapat akar unit. Artinya data bersifat non-stasioner\\\n",
    "Hipotesis 1 (H1): data terdapat tidak akar unit. Artinya data bersifat stasioner"
   ]
  },
  {
   "cell_type": "markdown",
   "metadata": {},
   "source": [
    "Jika p-value > 0.05 => Terima H0\\\n",
    "Jika p-value <= 0.05 => Terima H1 "
   ]
  },
  {
   "cell_type": "code",
   "execution_count": null,
   "metadata": {},
   "outputs": [],
   "source": [
    "pp = PhillipsPerron(df_sumsel, lags=15)\n",
    "print(pp.summary().as_text())"
   ]
  },
  {
   "cell_type": "code",
   "execution_count": null,
   "metadata": {},
   "outputs": [],
   "source": [
    "# # check linier regression with OLS\n",
    "# reg_res = pp.regression\n",
    "# print(reg_res.summary().as_text())"
   ]
  },
  {
   "cell_type": "markdown",
   "metadata": {},
   "source": [
    "**KPSS Test with ARCH toolbook**\n",
    "- https://arch.readthedocs.io/en/latest/unitroot/generated/arch.unitroot.KPSS.html"
   ]
  },
  {
   "cell_type": "markdown",
   "metadata": {},
   "source": [
    "Hipotesis 0 (H0): data bersifat stasioner\\\n",
    "Hipotesis 1 (H1): data bersifat non-stasioner"
   ]
  },
  {
   "cell_type": "code",
   "execution_count": null,
   "metadata": {},
   "outputs": [],
   "source": [
    "kpss = KPSS(df_sumsel, lags=15)\n",
    "print(kpss.summary().as_text())"
   ]
  },
  {
   "cell_type": "markdown",
   "metadata": {},
   "source": [
    "### Uji-Stasioneritas (Barlett dan Levene) pada nilai ragam"
   ]
  },
  {
   "cell_type": "markdown",
   "metadata": {},
   "source": [
    "- https://docs.scipy.org/doc/scipy/reference/generated/scipy.stats.bartlett.html\n",
    "- https://docs.scipy.org/doc/scipy/reference/generated/scipy.stats.levene.html"
   ]
  },
  {
   "cell_type": "code",
   "execution_count": null,
   "metadata": {},
   "outputs": [],
   "source": [
    "from scipy.stats import bartlett\n",
    "from scipy.stats import levene\n",
    "from statistics import mean"
   ]
  },
  {
   "cell_type": "code",
   "execution_count": null,
   "metadata": {},
   "outputs": [],
   "source": [
    "x = dataset[\"hotspot_sumsel\"].values"
   ]
  },
  {
   "cell_type": "code",
   "execution_count": null,
   "metadata": {},
   "outputs": [],
   "source": [
    "def normalize(x):\n",
    "    return ((x - mean(x)) / (max(x) - min(x)))"
   ]
  },
  {
   "cell_type": "code",
   "execution_count": null,
   "metadata": {},
   "outputs": [],
   "source": [
    "def normalize_1(x, a, b):\n",
    "    return a + (((x - min(x)) * (b - a)) / (max(x) - min(x)))"
   ]
  },
  {
   "cell_type": "code",
   "execution_count": null,
   "metadata": {},
   "outputs": [],
   "source": [
    "x1 = normalize_1(x, -1, 1)"
   ]
  },
  {
   "cell_type": "code",
   "execution_count": null,
   "metadata": {},
   "outputs": [],
   "source": [
    "# membuat frame\n",
    "fig, ax1 = plt.subplots(figsize = (20,5))\n",
    "\n",
    "# Plot dataset non normalize min-max\n",
    "# -------------------------------------------------------------------------------\n",
    "# membuat time series plot\n",
    "ax1.plot(x1, color=\"tab:blue\", label=\"data orginal\", linewidth=2.5)\n",
    "\n",
    "# membuat label-label\n",
    "ax1.set_title(\"Hotspot Sumsel Sensor MODIS 2001-2020\", fontsize=14)\n",
    "ax1.set_xlabel(\"Tanggal\", fontsize=12)\n",
    "ax1.set_ylabel(\"Jumlah Hostpot\", fontsize=12)\n",
    "ax1.legend(loc='upper left')\n",
    "ax1.grid(True)\n",
    "\n",
    "# menampilkan plot\n",
    "plt.show()"
   ]
  },
  {
   "cell_type": "code",
   "execution_count": null,
   "metadata": {},
   "outputs": [],
   "source": []
  },
  {
   "cell_type": "code",
   "execution_count": null,
   "metadata": {},
   "outputs": [],
   "source": []
  }
 ],
 "metadata": {
  "kernelspec": {
   "display_name": "Python 3 (ipykernel)",
   "language": "python",
   "name": "python3"
  },
  "language_info": {
   "codemirror_mode": {
    "name": "ipython",
    "version": 3
   },
   "file_extension": ".py",
   "mimetype": "text/x-python",
   "name": "python",
   "nbconvert_exporter": "python",
   "pygments_lexer": "ipython3",
   "version": "3.11.5"
  },
  "vscode": {
   "interpreter": {
    "hash": "37197ad202cea1caf8a636a74cec7c83b945e4f29ac1505900600f740c02611d"
   }
  }
 },
 "nbformat": 4,
 "nbformat_minor": 4
}
