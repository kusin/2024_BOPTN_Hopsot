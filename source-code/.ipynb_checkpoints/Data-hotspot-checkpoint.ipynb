{
 "cells": [
  {
   "cell_type": "markdown",
   "id": "96900ba9-69fe-4cfa-9ea3-6a6e67bf86ca",
   "metadata": {},
   "source": [
    "## Akuisisi Data Hotspot MODIS 2001 - 2023"
   ]
  },
  {
   "cell_type": "code",
   "execution_count": null,
   "id": "878f09a1-cbca-4372-936a-f635d0598278",
   "metadata": {},
   "outputs": [],
   "source": [
    "# pustaka manipulasi data array\n",
    "import numpy as np\n",
    "\n",
    "# pustaka manipulasi data frame\n",
    "import pandas as pd\n",
    "\n",
    "# pustaka untuk visualisasi data\n",
    "import matplotlib.pyplot as plt"
   ]
  },
  {
   "cell_type": "code",
   "execution_count": null,
   "id": "c7c4695f-fbdb-40ff-8a28-d2177e95db3d",
   "metadata": {},
   "outputs": [],
   "source": []
  },
  {
   "cell_type": "code",
   "execution_count": null,
   "id": "fccb4a4b-4c47-48da-aee3-eb6e142666fd",
   "metadata": {},
   "outputs": [],
   "source": []
  },
  {
   "cell_type": "code",
   "execution_count": null,
   "id": "09388388-9d6c-40e7-a770-4d7c4e8dd6e2",
   "metadata": {},
   "outputs": [],
   "source": []
  }
 ],
 "metadata": {
  "kernelspec": {
   "display_name": "Python 3 (ipykernel)",
   "language": "python",
   "name": "python3"
  },
  "language_info": {
   "codemirror_mode": {
    "name": "ipython",
    "version": 3
   },
   "file_extension": ".py",
   "mimetype": "text/x-python",
   "name": "python",
   "nbconvert_exporter": "python",
   "pygments_lexer": "ipython3",
   "version": "3.11.5"
  }
 },
 "nbformat": 4,
 "nbformat_minor": 5
}
