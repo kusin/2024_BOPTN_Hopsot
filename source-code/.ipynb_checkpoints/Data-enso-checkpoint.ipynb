{
 "cells": [
  {
   "cell_type": "markdown",
   "id": "15b6fbe5-0731-4d9e-ac9d-86b46610e760",
   "metadata": {},
   "source": [
    "## Akuisisi Data ENSO 2001 - 2023"
   ]
  },
  {
   "cell_type": "code",
   "execution_count": 1,
   "id": "4036e59a-ee19-4fe7-b5c8-acc39bba6020",
   "metadata": {},
   "outputs": [],
   "source": [
    "# pustaka manipulasi data array\n",
    "import numpy as np\n",
    "\n",
    "# pustaka manipulasi data frame\n",
    "import pandas as pd\n",
    "\n",
    "# pustaka untuk visualisasi data\n",
    "import matplotlib.pyplot as plt"
   ]
  },
  {
   "cell_type": "code",
   "execution_count": null,
   "id": "fcbd9a4f-2d8d-43f5-a98b-dc1ce59cea99",
   "metadata": {},
   "outputs": [],
   "source": []
  },
  {
   "cell_type": "code",
   "execution_count": null,
   "id": "90acb178-4315-4718-aca0-6b82361f0056",
   "metadata": {},
   "outputs": [],
   "source": []
  }
 ],
 "metadata": {
  "kernelspec": {
   "display_name": "Python 3 (ipykernel)",
   "language": "python",
   "name": "python3"
  },
  "language_info": {
   "codemirror_mode": {
    "name": "ipython",
    "version": 3
   },
   "file_extension": ".py",
   "mimetype": "text/x-python",
   "name": "python",
   "nbconvert_exporter": "python",
   "pygments_lexer": "ipython3",
   "version": "3.11.5"
  }
 },
 "nbformat": 4,
 "nbformat_minor": 5
}
