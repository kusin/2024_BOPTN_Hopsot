{
 "cells": [
  {
   "cell_type": "markdown",
   "id": "849423a3-b116-412d-bb1a-1f0ebe82b7c5",
   "metadata": {},
   "source": [
    "## Akuisisi Data Iklim dan Cuaca 2001 - 2023"
   ]
  },
  {
   "cell_type": "code",
   "execution_count": 1,
   "id": "8b0d50ca-e4c5-4ff2-b3c4-1557baa93061",
   "metadata": {},
   "outputs": [],
   "source": [
    "# pustaka manipulasi data array\n",
    "import numpy as np\n",
    "\n",
    "# pustaka manipulasi data frame\n",
    "import pandas as pd\n",
    "\n",
    "# pustaka untuk visualisasi data\n",
    "import matplotlib.pyplot as plt"
   ]
  },
  {
   "cell_type": "code",
   "execution_count": null,
   "id": "2e620641-1fc9-454b-a076-02f528719496",
   "metadata": {},
   "outputs": [],
   "source": []
  }
 ],
 "metadata": {
  "kernelspec": {
   "display_name": "Python 3 (ipykernel)",
   "language": "python",
   "name": "python3"
  },
  "language_info": {
   "codemirror_mode": {
    "name": "ipython",
    "version": 3
   },
   "file_extension": ".py",
   "mimetype": "text/x-python",
   "name": "python",
   "nbconvert_exporter": "python",
   "pygments_lexer": "ipython3",
   "version": "3.11.5"
  }
 },
 "nbformat": 4,
 "nbformat_minor": 5
}
