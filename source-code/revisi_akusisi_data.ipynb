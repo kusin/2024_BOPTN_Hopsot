{
 "cells": [
  {
   "cell_type": "markdown",
   "metadata": {},
   "source": [
    "## Akuisisi Data"
   ]
  },
  {
   "cell_type": "markdown",
   "metadata": {},
   "source": [
    "### 1. Deklarasi Pustaka"
   ]
  },
  {
   "cell_type": "code",
   "execution_count": null,
   "metadata": {},
   "outputs": [],
   "source": [
    "# pustaka manipulasi data array\n",
    "import numpy as np\n",
    "from numpy import concatenate\n",
    "\n",
    "# pustaka manipulasi data frame\n",
    "import pandas as pd\n",
    "from pandas import concat\n",
    "from pandas import DataFrame\n",
    "\n",
    "# pustaka tanggal\n",
    "from datetime import datetime\n",
    "from matplotlib import pyplot as plt"
   ]
  },
  {
   "cell_type": "markdown",
   "metadata": {},
   "source": [
    "### 2. Deklarasi Function"
   ]
  },
  {
   "cell_type": "code",
   "execution_count": null,
   "metadata": {},
   "outputs": [],
   "source": [
    "# define function\n",
    "def plot_time_series(x, y, label, title):\n",
    "    \n",
    "    # membuat frame\n",
    "    fig, ax = plt.subplots(figsize = (10,5))\n",
    "    \n",
    "    # membuat time series plot\n",
    "    ax.plot(x, y, color=\"tab:blue\", label=label, linewidth=2.5)\n",
    "    \n",
    "    # membuat label-label\n",
    "    ax.set_title(title, fontsize=14)\n",
    "    ax.set_xlabel(\"\", fontsize=12)\n",
    "    ax.set_ylabel(\"\", fontsize=12)\n",
    "    ax.legend(loc=\"best\")\n",
    "    ax.grid(True)\n",
    "    \n",
    "    # menampilkan plot\n",
    "    plt.show()"
   ]
  },
  {
   "cell_type": "markdown",
   "metadata": {},
   "source": [
    "### 3. Hotspot Sumatera Selatan"
   ]
  },
  {
   "cell_type": "markdown",
   "metadata": {},
   "source": [
    "- Loada dataset"
   ]
  },
  {
   "cell_type": "code",
   "execution_count": null,
   "metadata": {},
   "outputs": [],
   "source": [
    "# load dataset\n",
    "df_hotspot_1 = pd.read_csv(\"dataset/hotspot_sumsel_harian_2001_2022.csv\", parse_dates=[\"acq_date\"])"
   ]
  },
  {
   "cell_type": "code",
   "execution_count": null,
   "metadata": {},
   "outputs": [],
   "source": [
    "df_hotspot_1.info()"
   ]
  },
  {
   "cell_type": "code",
   "execution_count": null,
   "metadata": {},
   "outputs": [],
   "source": [
    "# load dataset\n",
    "df_hotspot_2 = pd.read_csv(\"dataset/hotspot_sumsel_harian_2023.csv\", parse_dates=[\"acq_date\"])"
   ]
  },
  {
   "cell_type": "code",
   "execution_count": null,
   "metadata": {},
   "outputs": [],
   "source": [
    "df_hotspot_2.info()"
   ]
  },
  {
   "cell_type": "code",
   "execution_count": null,
   "metadata": {},
   "outputs": [],
   "source": [
    "df_hotspot = pd.concat([df_hotspot_1, df_hotspot_2])"
   ]
  },
  {
   "cell_type": "code",
   "execution_count": null,
   "metadata": {},
   "outputs": [],
   "source": [
    "df_hotspot.info()"
   ]
  },
  {
   "cell_type": "code",
   "execution_count": null,
   "metadata": {},
   "outputs": [],
   "source": [
    "df_hotspot"
   ]
  },
  {
   "cell_type": "code",
   "execution_count": null,
   "metadata": {},
   "outputs": [],
   "source": [
    "# # set index \n",
    "# df_hotspot = df_hotspot.set_index(\"acq_date\")"
   ]
  },
  {
   "cell_type": "markdown",
   "metadata": {},
   "source": [
    "- Aggregasi dataset"
   ]
  },
  {
   "cell_type": "code",
   "execution_count": null,
   "metadata": {},
   "outputs": [],
   "source": [
    "# Agregasi data harian menjadi bulanan dengan menghitung jumlah hotspot per bulan\n",
    "df_hotspot_bulanan = df_hotspot.resample('M', on='acq_date').size().reset_index(name='hotspot')"
   ]
  },
  {
   "cell_type": "code",
   "execution_count": null,
   "metadata": {},
   "outputs": [],
   "source": [
    "df_hotspot_bulanan.info()"
   ]
  },
  {
   "cell_type": "code",
   "execution_count": null,
   "metadata": {},
   "outputs": [],
   "source": [
    "# df_hotspot_bulanan.to_csv(\"dataset/hotspot_sumsel_bulanan_2001_2023.csv\", index=False)"
   ]
  },
  {
   "cell_type": "markdown",
   "metadata": {},
   "source": [
    "- Visualisasi dataset"
   ]
  },
  {
   "cell_type": "code",
   "execution_count": null,
   "metadata": {},
   "outputs": [],
   "source": [
    "plot_time_series(df_hotspot_bulanan[\"acq_date\"], df_hotspot_bulanan[\"hotspot\"], \"Hotspot Sumatera Selatan\", \"\")"
   ]
  },
  {
   "cell_type": "markdown",
   "metadata": {},
   "source": [
    "### 4. Index SOI"
   ]
  },
  {
   "cell_type": "code",
   "execution_count": null,
   "metadata": {},
   "outputs": [],
   "source": [
    "soi = pd.read_excel(\"dataset/dataset_enso.xlsx\", sheet_name=\"SOI Results\")"
   ]
  },
  {
   "cell_type": "code",
   "execution_count": null,
   "metadata": {},
   "outputs": [],
   "source": [
    "soi.info()"
   ]
  },
  {
   "cell_type": "code",
   "execution_count": null,
   "metadata": {},
   "outputs": [],
   "source": [
    "plot_time_series(soi[\"date\"], soi[\"anomali\"], \"Index SOI tahun 2001 - 2023\", \"\")"
   ]
  },
  {
   "cell_type": "code",
   "execution_count": null,
   "metadata": {},
   "outputs": [],
   "source": [
    "plot_time_series(soi[\"date\"], soi[\"standard\"], \"Index SOI tahun 2001 - 2023\", \"\")"
   ]
  },
  {
   "cell_type": "markdown",
   "metadata": {},
   "source": [
    "### 5. SST Nina 3.4"
   ]
  },
  {
   "cell_type": "code",
   "execution_count": null,
   "metadata": {},
   "outputs": [],
   "source": [
    "sst = pd.read_excel(\"dataset/dataset_enso.xlsx\", sheet_name=\"SST Results\")"
   ]
  },
  {
   "cell_type": "code",
   "execution_count": null,
   "metadata": {},
   "outputs": [],
   "source": [
    "sst.info()"
   ]
  },
  {
   "cell_type": "code",
   "execution_count": null,
   "metadata": {},
   "outputs": [],
   "source": [
    "plot_time_series(sst[\"date\"], sst[\"anomali\"], \"SST Nina 3.4 tahun 2001 - 2023\", \"\")"
   ]
  },
  {
   "cell_type": "code",
   "execution_count": null,
   "metadata": {},
   "outputs": [],
   "source": [
    "plot_time_series(sst[\"date\"], sst[\"standard\"], \"SST Nina 3.4 tahun 2001 - 2023\", \"\")"
   ]
  },
  {
   "cell_type": "markdown",
   "metadata": {},
   "source": [
    "### 5. ONI Index"
   ]
  },
  {
   "cell_type": "code",
   "execution_count": null,
   "metadata": {},
   "outputs": [],
   "source": [
    "oni = pd.read_excel(\"dataset/dataset_enso.xlsx\", sheet_name=\"ONI Results\")"
   ]
  },
  {
   "cell_type": "code",
   "execution_count": null,
   "metadata": {},
   "outputs": [],
   "source": [
    "plot_time_series(oni[\"date\"], oni[\"anomali\"], \"ONI Index tahun 2001 - 2023\", \"\")"
   ]
  },
  {
   "cell_type": "code",
   "execution_count": null,
   "metadata": {},
   "outputs": [],
   "source": [
    "plot_time_series(oni[\"date\"], oni[\"standard\"], \"ONI Index tahun 2001 - 2023\", \"\")"
   ]
  },
  {
   "cell_type": "markdown",
   "metadata": {},
   "source": [
    "### Final Dataset"
   ]
  },
  {
   "cell_type": "code",
   "execution_count": null,
   "metadata": {},
   "outputs": [],
   "source": [
    "# Data hotspot\n",
    "hotspot = df_hotspot_bulanan\n",
    "\n",
    "# Data ENSO\n",
    "# -----------------\n",
    "soi_anom = soi[[\"anomali\"]]\n",
    "soi_std = soi[[\"standard\"]]\n",
    "\n",
    "sst_anom = sst[[\"anomali\"]]\n",
    "sst_std = sst[[\"standard\"]]\n",
    "\n",
    "oni_anom = oni[[\"anomali\"]]\n",
    "oni_std = oni[[\"standard\"]]\n",
    "\n",
    "# Data Iklim\n",
    "# -----------------\n",
    "radiasi = \"\"\n",
    "curah_hujan = \"\"\n",
    "suhu_udara = \"\"\n",
    "kelembaban_udara = \"\"\n",
    "kecepatan_angin = \"\""
   ]
  },
  {
   "cell_type": "code",
   "execution_count": null,
   "metadata": {},
   "outputs": [],
   "source": [
    "dataset = pd.concat([hotspot, soi_anom, soi_std, sst_anom, sst_std, oni_anom, oni_std], axis=1)\n",
    "dataset.columns = [\"acq_date\", \"hotspot\", \"soi_anom\", \"soi_std\", \"sst_anom\", \"sst_std\", \"oni_anom\", \"oni_std\"]"
   ]
  },
  {
   "cell_type": "code",
   "execution_count": null,
   "metadata": {},
   "outputs": [],
   "source": [
    "dataset"
   ]
  },
  {
   "cell_type": "code",
   "execution_count": null,
   "metadata": {},
   "outputs": [],
   "source": [
    "# dataset.to_csv(\"dataset/dataset_boptn.csv\", index=False)"
   ]
  },
  {
   "cell_type": "code",
   "execution_count": null,
   "metadata": {},
   "outputs": [],
   "source": []
  }
 ],
 "metadata": {
  "kernelspec": {
   "display_name": "Python 3 (ipykernel)",
   "language": "python",
   "name": "python3"
  },
  "language_info": {
   "codemirror_mode": {
    "name": "ipython",
    "version": 3
   },
   "file_extension": ".py",
   "mimetype": "text/x-python",
   "name": "python",
   "nbconvert_exporter": "python",
   "pygments_lexer": "ipython3",
   "version": "3.11.5"
  }
 },
 "nbformat": 4,
 "nbformat_minor": 4
}
