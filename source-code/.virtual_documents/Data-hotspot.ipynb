


# pustaka manipulasi data array
import numpy as np

# pustaka manipulasi data frame
import pandas as pd

# pustaka untuk visualisasi data
import matplotlib.pyplot as plt









