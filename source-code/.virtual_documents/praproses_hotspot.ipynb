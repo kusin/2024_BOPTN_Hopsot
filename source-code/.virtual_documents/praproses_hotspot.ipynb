





# pustaka manipulasi data array
import numpy as np
from numpy import concatenate

# pustaka manipulasi data frame
import pandas as pd
from pandas import concat
from pandas import DataFrame

# pustaka tanggal
from datetime import datetime
from matplotlib import pyplot as plt

# pustaka normalisasi data
from sklearn.preprocessing import MinMaxScaler
from mlxtend.preprocessing import minmax_scaling

# pustaka data latih dan data uji
from sklearn.model_selection import train_test_split





# define function
def plot_time_series(x, y, label, title):
    
    # membuat frame
    fig, ax = plt.subplots(figsize = (10,5))
    
    # membuat time series plot
    ax.plot(x, y, color="tab:blue", label=label, linewidth=2.5)
    
    # membuat label-label
    ax.set_title(title, fontsize=14)
    ax.set_xlabel("", fontsize=12)
    ax.set_ylabel("", fontsize=12)
    ax.legend(loc="best")
    ax.grid(True)
    
    # menampilkan plot
    plt.show()








# load dataset
df_hotspot = pd.read_csv("dataset/hotspot_sumsel_harian_2001_2022.csv", parse_dates=["acq_date"])


# # set index 
# df_hotspot = df_hotspot.set_index("acq_date")


df_hotspot





# Agregasi data harian menjadi bulanan dengan menghitung jumlah hotspot per bulan
df_hotspot_bulanan = df_hotspot.resample('M', on='acq_date').size().reset_index(name='hotspot')


df_hotspot_bulanan.info()


df_hotspot_bulanan


# df_hotspot_bulanan.to_csv("dataset/hotspot_sumsel_bulanan_2001_2022.csv", index=False)





plot_time_series(df_hotspot_bulanan["acq_date"], df_hotspot_bulanan["hotspot"], "Hotspot Sumatera Selatan", "")





soi = pd.read_excel("dataset/dataset_enso.xlsx", sheet_name="SOI Results")


soi.info()


plot_time_series(soi["date"], soi["anomali"], "Index SOI tahun 2001 - 2022", "")


plot_time_series(soi["date"], soi["standard"], "Index SOI tahun 2001 - 2022", "")



